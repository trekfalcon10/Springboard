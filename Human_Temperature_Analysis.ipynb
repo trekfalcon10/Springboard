{
 "cells": [
  {
   "cell_type": "markdown",
   "metadata": {},
   "source": [
    "# What is the True Normal Human Body Temperature? \n",
    "\n",
    "#### Background\n",
    "\n",
    "The mean normal body temperature was held to be 37$^{\\circ}$C or 98.6$^{\\circ}$F for more than 120 years since it was first conceptualized and reported by Carl Wunderlich in a famous 1868 book. But, is this value statistically correct?"
   ]
  },
  {
   "cell_type": "markdown",
   "metadata": {},
   "source": [
    "<h3>Exercises</h3>\n",
    "\n",
    "<p>In this exercise, you will analyze a dataset of human body temperatures and employ the concepts of hypothesis testing, confidence intervals, and statistical significance.</p>\n",
    "\n",
    "<p>Answer the following questions <b>in this notebook below and submit to your Github account</b>.</p> \n",
    "\n",
    "<ol>\n",
    "<li>  Is the distribution of body temperatures normal? \n",
    "    <ul>\n",
    "    <li> Although this is not a requirement for the Central Limit Theorem to hold (read the introduction on Wikipedia's page about the CLT carefully: https://en.wikipedia.org/wiki/Central_limit_theorem), it gives us some peace of mind that the population may also be normally distributed if we assume that this sample is representative of the population.\n",
    "    <li> Think about the way you're going to check for the normality of the distribution. Graphical methods are usually used first, but there are also other ways: https://en.wikipedia.org/wiki/Normality_test\n",
    "    </ul>\n",
    "<li>  Is the sample size large? Are the observations independent?\n",
    "    <ul>\n",
    "    <li> Remember that this is a condition for the Central Limit Theorem, and hence the statistical tests we are using, to apply.\n",
    "    </ul>\n",
    "<li>  Is the true population mean really 98.6 degrees F?\n",
    "    <ul>\n",
    "    <li> First, try a bootstrap hypothesis test.\n",
    "    <li> Now, let's try frequentist statistical testing. Would you use a one-sample or two-sample test? Why?\n",
    "    <li> In this situation, is it appropriate to use the $t$ or $z$ statistic? \n",
    "    <li> Now try using the other test. How is the result be different? Why?\n",
    "    </ul>\n",
    "<li>  Draw a small sample of size 10 from the data and repeat both frequentist tests. \n",
    "    <ul>\n",
    "    <li> Which one is the correct one to use? \n",
    "    <li> What do you notice? What does this tell you about the difference in application of the $t$ and $z$ statistic?\n",
    "    </ul>\n",
    "<li>  At what temperature should we consider someone's temperature to be \"abnormal\"?\n",
    "    <ul>\n",
    "    <li> As in the previous example, try calculating everything using the boostrap approach, as well as the frequentist approach.\n",
    "    <li> Start by computing the margin of error and confidence interval. When calculating the confidence interval, keep in mind that you should use the appropriate formula for one draw, and not N draws.\n",
    "    </ul>\n",
    "<li>  Is there a significant difference between males and females in normal temperature?\n",
    "    <ul>\n",
    "    <li> What testing approach did you use and why?\n",
    "    <li> Write a story with your conclusion in the context of the original problem.\n",
    "    </ul>\n",
    "</ol>\n",
    "\n",
    "You can include written notes in notebook cells using Markdown: \n",
    "   - In the control panel at the top, choose Cell > Cell Type > Markdown\n",
    "   - Markdown syntax: http://nestacms.com/docs/creating-content/markdown-cheat-sheet\n",
    "\n",
    "#### Resources\n",
    "\n",
    "+ Information and data sources: http://www.amstat.org/publications/jse/datasets/normtemp.txt, http://www.amstat.org/publications/jse/jse_data_archive.htm\n",
    "+ Markdown syntax: http://nestacms.com/docs/creating-content/markdown-cheat-sheet\n",
    "\n",
    "****"
   ]
  },
  {
   "cell_type": "markdown",
   "metadata": {},
   "source": [
    "# Consolidated Answers\n",
    "\n",
    "### All relevant code and graphs are displayed below this section.\n",
    "\n",
    "\\#1. The sample appears to be approximately normal based on the plotted histogram and Q-Q plots, as well as the result given by the Shapiro-Wilk test, all shown below.\n",
    "\n",
    "\\#2. As indicated above, the sample size is 130.   One individual's body temperature should not affect another's, so the observations in the sample may be said to be independent.  The number of observations is also greater than 30 and so the Central Limit Theorem may still apply such that the means of the sample have an approximately normal distribution.  \n",
    "\n",
    "\\#3a. __Bootstrap Approach__ \n",
    "\n",
    "We reject the null hypothesis that the average temperature is 98.6 degrees since the average observed value shown above is approximately 98.2 degrees, even less than the minimum bootstrap value of approximately 98.4 degrees.   \n",
    "\n",
    "\\#3b. __Frequentist testing__  \n",
    "\n",
    "We use a one-sample test here since we only have one set of data to compare to the general population. We will use a t-test here since the true standard deviation of the general population is unknown. \n",
    "\n",
    "The p-value given by the ttest_onesamp function (2.4106320415561318e-07) is substantially lower than the threshold $\\alpha$ of 0.05.  This further shows that the null hypothesis should be rejected.\n",
    "\n",
    "The test value for the ztest function performed by hand (-5.4548232923645195) is the same as that for the t-test, likely because this function is presuming the sample standard deviation is the same as the population's. (We do not have the general population's standard deviation.) The p-value generated is even smaller, but may not be as trustworthy since the function is not using the correct standard deviation for a z-test. The value calculated by hand, again using the sample standard deviation instead, is close to the ttest function's test value as well at -5.4759252020781162. Looking this value up on a z-table for extreme negative z-scores (available [here](http://wserver.crc.losrios.edu/~larsenl/ExtraMaterials/tables_ZTXF.pdf)) gives a p-value of less than approximately .0001. Thus, using either test we are able to reject the null hypothesis.  \n",
    "\n",
    "\\#4. __Small Sample__  \n",
    "\n",
    "Although this sample is less than 30, it still retains an approximately normal form as seen in the histogram and Shapiro test below.\n",
    "\n",
    "The p-value is approx. .28 based on the z-test, very close to the p-value in the t-test. Since we are basing the population here on the sample of 130 that we drew the smaller sample from, the z-test is appropriate here.\n",
    "\n",
    "\\#5. __Abnormal Values__\n",
    "\n",
    "Using a bootstrapping approach we obtain results stating:\n",
    "Abnormal if greater than  98.3363178885  degrees or less than  98.1167590345  degrees.\n",
    "\n",
    "Using a somewhat more approximate method taking values greater than 2 standard errors from the mean to be extreme values we obtain similar results stating:\n",
    "Abnormal if greater than  98.3773439986  degrees or less than  98.1211175398  degrees.\n",
    "\n",
    "\\#6. __Gender Temperature Differences__\n",
    "\n",
    "Males have a slightly lower average temperature according to the present observations.\n",
    "\n",
    "Assuming an $\\alpha$ of 0.05, the p-value given by the t-test (0.0239318831224) is less than $\\alpha$ and indicates that the null hypothesis that there is no difference in mean temperature between males and females should be rejected. The observed difference was approximately 0.29 degrees, with females having the slightly higher mean temperature. \n",
    "\n",
    "To obtain the foregoing result I used a two-sample boot strapping method as an initial test method since we now have two groups within the initial sample to compare, each with their own separate means.  The two-sample t-test was then used since the size of both male and female samples was greater than 30 (both are 65), the population standard deviation remains unknown and the two samples are independent (male and female temperatures were not paired or matched, and no individual's body temperature should affect another's). \n",
    "\n",
    "The goal was to determine whether the difference in means observed was likely due to chance.  The rejection of the null hypothesis here shows that it was very unlikely that the observed difference was due to chance.  \n",
    "\n",
    "As indicated below, both the average male temperature and the average female temperature were both below 98.6 degrees, lending further credence to the possibility that the standard 98.6 degree average reported by Wunderlich is incorrect.\n"
   ]
  },
  {
   "cell_type": "code",
   "execution_count": 1,
   "metadata": {
    "collapsed": true
   },
   "outputs": [],
   "source": [
    "import pandas as pd\n",
    "\n",
    "df = pd.read_csv('data/human_body_temperature.csv')"
   ]
  },
  {
   "cell_type": "code",
   "execution_count": 2,
   "metadata": {},
   "outputs": [
    {
     "name": "stdout",
     "output_type": "stream",
     "text": [
      "<class 'pandas.core.frame.DataFrame'>\n",
      "RangeIndex: 130 entries, 0 to 129\n",
      "Data columns (total 3 columns):\n",
      "temperature    130 non-null float64\n",
      "gender         130 non-null object\n",
      "heart_rate     130 non-null float64\n",
      "dtypes: float64(2), object(1)\n",
      "memory usage: 3.1+ KB\n",
      "\n",
      " Average temperature:  98.24923076923078\n"
     ]
    },
    {
     "data": {
      "text/plain": [
       "count    130.000000\n",
       "mean      98.249231\n",
       "std        0.733183\n",
       "min       96.300000\n",
       "25%       97.800000\n",
       "50%       98.300000\n",
       "75%       98.700000\n",
       "max      100.800000\n",
       "Name: temperature, dtype: float64"
      ]
     },
     "execution_count": 2,
     "metadata": {},
     "output_type": "execute_result"
    }
   ],
   "source": [
    "# Your work here.\n",
    "import numpy as np\n",
    "import matplotlib.pyplot as plt\n",
    "import seaborn as sns\n",
    "\n",
    "sns.set()\n",
    "\n",
    "#View characteristics of dataset\n",
    "df.info()\n",
    "\n",
    "#Get mean temperature\n",
    "print(\"\\n Average temperature: \", np.mean(df['temperature']))\n",
    "\n",
    "#Get statistical data concerning the set\n",
    "df['temperature'].describe()"
   ]
  },
  {
   "cell_type": "code",
   "execution_count": 3,
   "metadata": {},
   "outputs": [
    {
     "data": {
      "image/png": "[encoded data removed]",
      "text/plain": [
       "<matplotlib.figure.Figure at 0x10a1a26a0>"
      ]
     },
     "metadata": {},
     "output_type": "display_data"
    }
   ],
   "source": [
    "#1. Plot temperature to view if normal--appears roughly normal. \n",
    "_ = plt.hist(df['temperature'])\n",
    "\n",
    "_ = plt.xlabel(\"Temperature\")\n",
    "\n",
    "plt.show()\n"
   ]
  },
  {
   "cell_type": "code",
   "execution_count": 5,
   "metadata": {},
   "outputs": [
    {
     "data": {
      "image/png": "[encoded data removed]",
      "text/plain": [
       "<matplotlib.figure.Figure at 0x1074437b8>"
      ]
     },
     "metadata": {},
     "output_type": "display_data"
    }
   ],
   "source": [
    "#Q-Q Plot also indicates approximate normality\n",
    "\n",
    "import statsmodels.api as sm\n",
    "\n",
    "sm.qqplot(df['temperature'], line='s')\n",
    "plt.show()"
   ]
  },
  {
   "cell_type": "code",
   "execution_count": 6,
   "metadata": {},
   "outputs": [
    {
     "name": "stdout",
     "output_type": "stream",
     "text": [
      "p is 0.233174666762352 . Sample appears normal.\n"
     ]
    }
   ],
   "source": [
    "#Apply Shapiro-Wilk test of normality\n",
    "from scipy.stats import shapiro\n",
    "\n",
    "stat, p = shapiro(df['temperature'])\n",
    "\n",
    "alpha = 0.05\n",
    "\n",
    "if p > alpha:\n",
    "    print(\"p is\", p,\". Sample appears normal.\")\n",
    "    \n",
    "else:\n",
    "    print(\"p is\", p,\". Sample is not normal.\")"
   ]
  },
  {
   "cell_type": "markdown",
   "metadata": {},
   "source": [
    "1. The sample appears to be approximately normal.\n",
    "\n",
    "2. As indicated above, the sample size is 130.   One individual's body temperature should not affect another's, so the observations in the sample may be said to be independent.  The number of observations is also greater than 30 and so the Central Limit Theorem may still apply such that the means of the sample have an approximately normal distribution.  "
   ]
  },
  {
   "cell_type": "code",
   "execution_count": 7,
   "metadata": {},
   "outputs": [
    {
     "name": "stdout",
     "output_type": "stream",
     "text": [
      "p =  0.0\n",
      "Reject null hypothesis.  General population may have different temperature.\n"
     ]
    }
   ],
   "source": [
    "#3a.  Bootstrap test for mean\n",
    "np.random.seed(7)\n",
    "\n",
    "def bootstrap_replicate_1d(data, func):\n",
    "    return func(np.random.choice(data, size=len(data)))\n",
    "\n",
    "def draw_bs_reps(data, func, size=1):\n",
    "    \"\"\"Draw bootstrap replicates.\"\"\"\n",
    "\n",
    "    # Initialize array of replicates: bs_replicates\n",
    "    bs_replicates = np.empty(size)\n",
    "\n",
    "    # Generate replicates\n",
    "    for i in range(size):\n",
    "        bs_replicates[i] = bootstrap_replicate_1d(data, func)\n",
    "\n",
    "    return bs_replicates\n",
    "\n",
    "translated_temp = df['temperature'] - np.mean(df['temperature']) + 98.6\n",
    "\n",
    "bs_replicates = draw_bs_reps(translated_temp, np.mean, size=10000)\n",
    "\n",
    "a = .05\n",
    "\n",
    "#Use lower and upper bounds of difference from 98.6.  Mean itself is .4 below 98.6 and 99.0 is .4 above.\n",
    "#P value is looking for probability of obeserving values at least as extreme as what was observed by chance.\n",
    "p = (np.sum(bs_replicates <= np.mean(df['temperature'])) + np.sum(bs_replicates >= 99.0)) / 10000\n",
    "\n",
    "print(\"p = \", p)\n",
    "\n",
    "if p < a:\n",
    "    print(\"Reject null hypothesis.  General population may have different temperature.\")\n",
    "else:\n",
    "    print(\"Fail to reject null hypothesis. General population's temperature is likely 98.6.\")\n",
    "    "
   ]
  },
  {
   "cell_type": "code",
   "execution_count": 8,
   "metadata": {},
   "outputs": [
    {
     "name": "stdout",
     "output_type": "stream",
     "text": [
      "Average temperature observed:  98.24923076923078\n",
      "Minimum bootstrap value:  98.3792307692\n"
     ]
    }
   ],
   "source": [
    "print(\"Average temperature observed: \", np.mean(df['temperature']))\n",
    "print(\"Minimum bootstrap value: \", bs_replicates.min())"
   ]
  },
  {
   "cell_type": "markdown",
   "metadata": {},
   "source": [
    "3a. We reject the null hypothesis that the average temperature is 98.6 degrees since the average observed value shown above is approximately 98.2 degrees, even less than the minimum bootstrap value of approximately 98.4 degrees.   \n",
    "\n",
    "3b. __Frequentist testing__.  We use a one-sample test here since we only have one set of data to compare to the general population. We will use a t-test here since the true standard deviation of the general population is unknown. "
   ]
  },
  {
   "cell_type": "code",
   "execution_count": 9,
   "metadata": {},
   "outputs": [
    {
     "data": {
      "text/plain": [
       "Ttest_1sampResult(statistic=-5.4548232923645195, pvalue=2.4106320415561318e-07)"
      ]
     },
     "execution_count": 9,
     "metadata": {},
     "output_type": "execute_result"
    }
   ],
   "source": [
    "#Use ttest_onesamp to calulate p-value from t-test\n",
    "from scipy.stats.mstats import ttest_onesamp\n",
    "\n",
    "ttest_onesamp(df['temperature'], 98.6)"
   ]
  },
  {
   "cell_type": "markdown",
   "metadata": {},
   "source": [
    "The p-value given by the ttest_onesamp function (2.4106320415561318e-07) is substantially lower than the threshold $\\alpha$ of 0.05.  This further shows that the null hypothesis should be rejected."
   ]
  },
  {
   "cell_type": "code",
   "execution_count": 10,
   "metadata": {},
   "outputs": [
    {
     "name": "stdout",
     "output_type": "stream",
     "text": [
      "The z-statistic is -5.45482329236  and the p-value is 4.9021570141e-08 .\n"
     ]
    }
   ],
   "source": [
    "#Performing z-test by ztest function\n",
    "from statsmodels.stats.weightstats import ztest\n",
    "\n",
    "zstat, pval = ztest(df['temperature'], value=98.6, alternative=\"two-sided\")\n",
    "\n",
    "print(\"The z-statistic is\", zstat, \" and the p-value is\", pval, \".\")\n"
   ]
  },
  {
   "cell_type": "code",
   "execution_count": 11,
   "metadata": {},
   "outputs": [
    {
     "data": {
      "text/plain": [
       "-5.4759252020781162"
      ]
     },
     "execution_count": 11,
     "metadata": {},
     "output_type": "execute_result"
    }
   ],
   "source": [
    "#Performing z-test by hand\n",
    "(np.mean(df['temperature']) - 98.6)/(np.std(df['temperature'])/np.sqrt(len(df)))"
   ]
  },
  {
   "cell_type": "markdown",
   "metadata": {},
   "source": [
    "The test value for the ztest function performed by hand (-5.4548232923645195) is the same as that for the t-test, likely because this function is presuming the sample standard deviation is the same as the population's. (We do not have the general population's standard deviation.) The p-value generated is even smaller, but may not be as trustworthy since the function is not using the correct standard deviation for a z-test. The value calculated by hand, again using the sample standard deviation instead, is close to the ttest function's test value as well at -5.4759252020781162. Looking this value up on a z-table for extreme negative z-scores (available [here](http://wserver.crc.losrios.edu/~larsenl/ExtraMaterials/tables_ZTXF.pdf)) gives a p-value of less than approximately .0001. Thus, using either test we are able to reject the null hypothesis.  "
   ]
  },
  {
   "cell_type": "code",
   "execution_count": 12,
   "metadata": {},
   "outputs": [
    {
     "data": {
      "text/plain": [
       "Ttest_1sampResult(statistic=-1.0774675665588005, pvalue=0.30930267921950938)"
      ]
     },
     "execution_count": 12,
     "metadata": {},
     "output_type": "execute_result"
    }
   ],
   "source": [
    "#4. Small sample\n",
    "np.random.seed(7)\n",
    "small_sample = np.random.choice(df['temperature'], size=10)\n",
    "\n",
    "#T-Test\n",
    "ttest_onesamp(small_sample, 98.6)"
   ]
  },
  {
   "cell_type": "markdown",
   "metadata": {},
   "source": [
    "Although this sample is less than 30, it still retains an approximately normal form as seen in the histogram and Shapiro test below."
   ]
  },
  {
   "cell_type": "code",
   "execution_count": 13,
   "metadata": {},
   "outputs": [
    {
     "data": {
      "image/png": "[encoded data removed]",
      "text/plain": [
       "<matplotlib.figure.Figure at 0x1109d2710>"
      ]
     },
     "metadata": {},
     "output_type": "display_data"
    },
    {
     "name": "stdout",
     "output_type": "stream",
     "text": [
      "p is 0.42676687240600586 . Sample appears normal.\n"
     ]
    }
   ],
   "source": [
    "_ = plt.hist(small_sample)\n",
    "\n",
    "_ = plt.xlabel(\"Temperature\")\n",
    "\n",
    "plt.show()\n",
    "\n",
    "stat, p = shapiro(small_sample)\n",
    "\n",
    "alpha = 0.05\n",
    "\n",
    "if p > alpha:\n",
    "    print(\"p is\", p,\". Sample appears normal.\")\n",
    "    \n",
    "else:\n",
    "    print(\"p is\", p,\". Sample is not normal.\")"
   ]
  },
  {
   "cell_type": "code",
   "execution_count": 14,
   "metadata": {},
   "outputs": [
    {
     "name": "stdout",
     "output_type": "stream",
     "text": [
      "P-value is  0.281271432868\n"
     ]
    }
   ],
   "source": [
    "#Z-Test\n",
    "\n",
    "zstat, p = ztest(small_sample, value=98.6, alternative=\"two-sided\")\n",
    "\n",
    "#zscore = (np.mean(small_sample) - 98.6)/(np.std(df['temperature'])/np.sqrt(10))\n",
    "\n",
    "print(\"P-value is \", p)"
   ]
  },
  {
   "cell_type": "markdown",
   "metadata": {},
   "source": [
    "The p-value is approx. .28 based on the z-test, very close to the p-value in the t-test. Since we are basing the population here on the sample of 130 that we drew the smaller sample from, the z-test is appropriate here."
   ]
  },
  {
   "cell_type": "code",
   "execution_count": 15,
   "metadata": {},
   "outputs": [
    {
     "name": "stdout",
     "output_type": "stream",
     "text": [
      "Abnormal if greater than  98.3363178885  degrees or less than  98.1167590345  degrees.\n"
     ]
    }
   ],
   "source": [
    "#5. Unusual values\n",
    "#Bootstrapping approach\n",
    "\n",
    "from scipy import stats\n",
    "np.random.seed(7)\n",
    "\n",
    "z_critical = stats.norm.ppf(q = 0.975)\n",
    "margin_of_error = z_critical * (np.std(df['temperature'])/np.sqrt(len(df)))\n",
    "\n",
    "confidence_interval = (draw_bs_reps(df['temperature'], np.mean, size=1)[0] - margin_of_error,\n",
    "                       draw_bs_reps(df['temperature'], np.mean, size=1)[0] + margin_of_error)\n",
    "\n",
    "print(\"Abnormal if greater than \", confidence_interval[1], \" degrees or less than \", confidence_interval[0], \" degrees.\")\n"
   ]
  },
  {
   "cell_type": "code",
   "execution_count": 16,
   "metadata": {},
   "outputs": [
    {
     "name": "stdout",
     "output_type": "stream",
     "text": [
      "Abnormal if greater than  98.3773439986  degrees or less than  98.1211175398  degrees.\n"
     ]
    }
   ],
   "source": [
    "#Method using greater than 2 standard errors as being abnormal/extreme yields similar results\n",
    "\n",
    "difference = 2 * np.std(df['temperature'])/np.sqrt(len(df['temperature']))\n",
    "\n",
    "upper_temp = np.mean(df['temperature']) + difference\n",
    "lower_temp = np.mean(df['temperature']) - difference\n",
    "\n",
    "print(\"Abnormal if greater than \", upper_temp, \" degrees or less than \", lower_temp, \" degrees.\")\n"
   ]
  },
  {
   "cell_type": "code",
   "execution_count": 17,
   "metadata": {},
   "outputs": [
    {
     "data": {
      "text/plain": [
       "gender\n",
       "F    98.393846\n",
       "M    98.104615\n",
       "Name: temperature, dtype: float64"
      ]
     },
     "execution_count": 17,
     "metadata": {},
     "output_type": "execute_result"
    }
   ],
   "source": [
    "#6. Difference in temperature by gender observed\n",
    "df.groupby('gender')['temperature'].mean()"
   ]
  },
  {
   "cell_type": "markdown",
   "metadata": {},
   "source": [
    "Males have a slightly lower average temperature according to the present observations.  "
   ]
  },
  {
   "cell_type": "code",
   "execution_count": 18,
   "metadata": {},
   "outputs": [
    {
     "name": "stdout",
     "output_type": "stream",
     "text": [
      "p-value = 0.0113\n",
      "Reject null hypothesis.  Males and females may have a different mean temperature.\n"
     ]
    }
   ],
   "source": [
    "#Bootstrap approach\n",
    "#Set seed\n",
    "np.random.seed(7)\n",
    "\n",
    "#Get male and female temperatures to bootstrap.\n",
    "male_temp = df.loc[df['gender'] == \"M\"]['temperature']\n",
    "female_temp = df.loc[df['gender'] == \"F\"]['temperature']\n",
    "\n",
    "mean_temp = np.mean(df['temperature'])\n",
    "\n",
    "mean_male_temp = np.mean(male_temp)\n",
    "mean_female_temp = np.mean(female_temp)\n",
    "\n",
    "empirical_diff_means =  mean_female_temp - mean_male_temp\n",
    "\n",
    "# Generate shifted arrays\n",
    "male_temp_shifted = male_temp - np.mean(male_temp) + mean_temp\n",
    "female_temp_shifted = female_temp - np.mean(female_temp) + mean_temp \n",
    "\n",
    "# Compute 10,000 bootstrap replicates from shifted arrays\n",
    "bs_replicates_male = draw_bs_reps(male_temp_shifted, np.mean, 10000)\n",
    "bs_replicates_female = draw_bs_reps(female_temp_shifted, np.mean, 10000)\n",
    "\n",
    "# Get replicates of difference of means: bs_replicates\n",
    "bs_replicates = bs_replicates_female - bs_replicates_male\n",
    "\n",
    "# Compute and print p-value: p \n",
    "#Use alternative hypothesis that male and female temperature means are greater than or equal to that observed. \n",
    "p = (np.sum(bs_replicates >= empirical_diff_means)) / 10000\n",
    "print('p-value =', p)\n",
    "\n",
    "if p < a:\n",
    "    print(\"Reject null hypothesis.  Males and females may have a different mean temperature.\")\n",
    "else:\n",
    "    print(\"Fail to reject null hypothesis. Males and females likely have the same mean temperature.\")\n",
    "    "
   ]
  },
  {
   "cell_type": "code",
   "execution_count": 19,
   "metadata": {},
   "outputs": [
    {
     "name": "stdout",
     "output_type": "stream",
     "text": [
      "Male sample size:  65  Female sample size:  65\n",
      "p-value = 0.0239318831224\n",
      "Reject null hypothesis.  Males and females may have a different mean temperature.\n"
     ]
    }
   ],
   "source": [
    "#Alternative approach using ttest_ind for two samples\n",
    "from scipy import stats\n",
    "\n",
    "print(\"Male sample size: \", len(male_temp), \" Female sample size: \", len(female_temp))\n",
    "\n",
    "stat, p = stats.ttest_ind(male_temp, female_temp)\n",
    "\n",
    "print('p-value =', p)\n",
    "\n",
    "if p < a:\n",
    "    print(\"Reject null hypothesis.  Males and females may have a different mean temperature.\")\n",
    "else:\n",
    "    print(\"Fail to reject null hypothesis. Males and females likely have the same mean temperature.\")\n",
    "  "
   ]
  },
  {
   "cell_type": "markdown",
   "metadata": {},
   "source": [
    "Assuming an $\\alpha$ of 0.05, the p-value given by the t-test (0.0239318831224) is less than $\\alpha$ and indicates that the null hypothesis that there is no difference in mean temperature between males and females should be rejected. The observed difference was approximately 0.29 degrees, with females having the slightly higher mean temperature. \n",
    "\n",
    "To obtain the foregoing result I used a two-sample boot strapping method as an initial test method since we now have two groups within the initial sample to compare, each with their own separate means.  The two-sample t-test was then used since the size of both male and female samples was greater than 30 (both are 65), the population standard deviation remains unknown and the two samples are independent (male and female temperatures were not paired or matched, and no individual's body temperature should affect another's). \n",
    "\n",
    "The goal was to determine whether the difference in means observed was likely due to chance.  The rejection of the null hypothesis here shows that it was very unlikely that the observed difference was due to chance.  \n",
    "\n",
    "As indicated above, both the average male temperature and the average female temperature were both below 98.6 degrees, lending further credence to the possibility that the standard 98.6 degree average reported by Wunderlich is incorrect.\n"
   ]
  }
 ],
 "metadata": {
  "kernelspec": {
   "display_name": "Python 3",
   "language": "python",
   "name": "python3"
  },
  "language_info": {
   "codemirror_mode": {
    "name": "ipython",
    "version": 3
   },
   "file_extension": ".py",
   "mimetype": "text/x-python",
   "name": "python",
   "nbconvert_exporter": "python",
   "pygments_lexer": "ipython3",
   "version": "3.6.3"
  }
 },
 "nbformat": 4,
 "nbformat_minor": 1
}
